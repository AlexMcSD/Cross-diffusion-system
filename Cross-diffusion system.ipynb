{
 "cells": [
  {
   "cell_type": "markdown",
   "id": "24726ac8-f31d-4abb-9dff-8dbc32f66411",
   "metadata": {},
   "source": [
    "# Simulations of cross-diffusion system"
   ]
  },
  {
   "cell_type": "code",
   "execution_count": 15,
   "id": "8686c5ea-6254-4ab3-9ea9-fe3f32e68ddc",
   "metadata": {},
   "outputs": [],
   "source": [
    "import numpy as np\n",
    "from numpy import array"
   ]
  },
  {
   "cell_type": "markdown",
   "id": "61e87e3a-8c6a-4eb9-b8db-c7e748a1f774",
   "metadata": {},
   "source": [
    "## Initial functions\n",
    "\n",
    "D_X(V,h) returns the scalar field given by $\\frac{V(x+h,y) - V(x,y)}{h}$, a discretisation of the $\\frac{\\partial}{\\partial x}$ operator, and G_X(V,h) returns the scalar field $\\frac{V(x+h,y) + V(x,y)}{2}$, a local averaging."
   ]
  },
  {
   "cell_type": "code",
   "execution_count": 16,
   "id": "cc4786e4-7a81-462c-b253-4c778b5b6f90",
   "metadata": {},
   "outputs": [],
   "source": [
    "def D_X(V,h):\n",
    "    direction = -int(np.sign(h))\n",
    "    return (np.roll(V,direction,axis=1) -V)/h\n",
    "    \n",
    "\n",
    "def G_X(V,h):\n",
    "    direction = -int(np.sign(h))\n",
    "    return (np.roll(V,direction,axis=1) + V)/2\n",
    "\n",
    "def G_Y(V,h):\n",
    "    direction = -int(np.sign(h))\n",
    "    return (np.roll(V,direction,axis=0) + V)/2\n",
    "\n",
    "def D_Y(V,h):\n",
    "    direction = -int(np.sign(h))\n",
    "    return (np.roll(V,direction,axis=0) -V)/h\n",
    "    "
   ]
  },
  {
   "cell_type": "markdown",
   "id": "eccb8ceb-0c1f-4903-81d1-ca5895ce104a",
   "metadata": {},
   "source": [
    "evolve takes in initial conditions, system parameters and the time increment dt and total number of time steps to be taken and evolves the system for that many time steps.\n",
    "For each time step the mobility matrix $M$ is computed and this is then fed into the forward_step function which takes one step forward. The forward_step function computes the thermodynamic forces $F$, which is multiplied with $M$ and then the divergence taken to find $\\delta \\underline{\\rho}$.\n",
    "\n",
    "There is an early termination condition for the evolution of the system. If at any point $\\underline{\\rho} \\not\\in \\mathcal{D}$ or $\\vert \\vert \\delta \\underline{\\rho}\\vert \\vert_{L^2} < minChange$, then the evolve funciton is terminated and the system up to that point is outputted.\n",
    "\n",
    "The output of the evolve funciton is rho_t_1,rho_t_2,t, wher rho_t_i is an $TimeSteps\\times N \\times N$ array where $N$ is the space discretisation parameter. "
   ]
  },
  {
   "cell_type": "code",
   "execution_count": 75,
   "id": "f666451c-85ae-4057-b1d7-0d034e711bac",
   "metadata": {
    "tags": []
   },
   "outputs": [],
   "source": [
    "def evolve(rho_10,rho_20,dt,D_1,D_2,TimeSteps,minChange):\n",
    "    gamma12 = 2*D_1/(D_1 +D_2)\n",
    "    gamma21 = 2*D_2/(D_1 +D_2)\n",
    "    alpha = np.pi/2 - 1\n",
    "    rho_1 = rho_10\n",
    "    rho_2 = rho_20\n",
    "    t = 0\n",
    "    gamma12 = 2*D_1/(D_1 +D_2)\n",
    "    gamma21 = 2*D_2/(D_1 +D_2)\n",
    "    alpha = np.pi/2 - 1\n",
    "    rho_t_1 = np.zeros((1+TimeSteps,N,N))\n",
    "    rho_t_2 = np.zeros((1+TimeSteps,N,N))\n",
    "    i = 0\n",
    "    rho_t_1[i] = rho_1\n",
    "    rho_t_2[i] = rho_2\n",
    "    LastUpdate= 0\n",
    "    while i< TimeSteps:\n",
    "        M = np.zeros((2,2,N,N))\n",
    "        I = np.nonzero((rho_1+rho_2))\n",
    "        M_00 = M[0,0,:,:]\n",
    "        M_01 = M[0,1,:,:]\n",
    "        M_10 =M[1,0,:,:]\n",
    "        M_11 =M[1,1,:,:]\n",
    "        M_00[I] += D_1*((1-rho_1-rho_2)[I]/(rho_1+rho_2)[I] )*((rho_1**2)[I] + (rho_1*rho_2 )[I]*(1-alpha*gamma12*(rho_1+rho_2))[I])\n",
    "        M_01[I] += ((1-rho_1-rho_2)[I] /(rho_1+rho_2)[I] )* ((rho_1*rho_2)[I]-(rho_1*rho_2*(1-alpha*gamma21*(rho_1+rho_2)))[I])\n",
    "        M_10[I] += ((1-rho_1-rho_2)[I] /(rho_1+rho_2)[I] )*((rho_1*rho_2)[I]-(rho_1*rho_2*(1-alpha*gamma12*(rho_1+rho_2)))[I])\n",
    "        M_11[I] += D_2*((1-rho_1-rho_2)[I] /(rho_1+rho_2)[I] )*((rho_2**2)[I]+ (rho_1*rho_2 )[I]*(1-alpha*gamma21*(rho_1+rho_2))[I]  )\n",
    "      #  print(np.amin((np.sqrt(M_00*M_11 - M_01*M_10)**2)))\n",
    "        rho_1,rho_2,Magnitude_change =  forward_step(rho_1,rho_2,dt,M)\n",
    "        t +=dt\n",
    "        i += 1\n",
    "        if int((100*i/TimeSteps)%5) ==0 and int(100*i/TimeSteps) >0 and int((100*i/TimeSteps))>LastUpdate: \n",
    "            print(str(int((100*i/TimeSteps))) + \"% completed. Current value of dp/dt = \"+ str(Magnitude_change))\n",
    "            LastUpdate = int((100*i/TimeSteps))\n",
    "\n",
    "        rho_t_1[i] = rho_1\n",
    "        rho_t_2[i] = rho_2\n",
    "        if len(np.argwhere(rho_1 <0 )) >0 or  len(np.argwhere(rho_2 <0 )) >0 or  len(np.argwhere(rho_1 +rho_2>1 )) >0 or Magnitude_change < minChange:\n",
    "            print('ended early at  i='+str(i))\n",
    "            return rho_t_1[:i+1,:,:],rho_t_2[:i+1,:,:],np.linspace(0,dt*(i+1),i+1)\n",
    "            break\n",
    "        #print('Got to i = ' +str(i)+', successfully!')\n",
    "    \n",
    "    return rho_t_1,rho_t_2,np.linspace(0,dt*(i+1),i+1)\n",
    "\n",
    "def forward_step(rho_1,rho_2,dt,M):\n",
    "    rho= rho_1 +rho_2\n",
    "    rhos_new = array([rho_1,rho_2])\n",
    "    \n",
    "    F_1_plus_X = G_X(DV_1(X)[0],h)   # Initially set to the forces due to potential\n",
    "    I1= np.nonzero(G_X(rho_1,h))  # Find indices where no division by zero\n",
    "    F_1_plus_X[I1] += D_X(rho_1,h)[I1]/G_X(rho_1,h)[I1] # Adding the forcing values at these indices due to species 1 density\n",
    "    I2 = np.nonzero(1-G_X(rho,h))  # Find indices where no division by zero\n",
    "    F_1_plus_X[I2] += D_X(rho,h)[I2]/(1-G_X(rho,h))[I2]  # Adding the forcing values at these indices due to total species density\n",
    "    \n",
    "    F_1_plus_Y = G_Y(DV_1(X)[1],h)\n",
    "    I1= np.nonzero(G_Y(rho_1,h))\n",
    "    F_1_plus_Y[I1] += D_Y(rho_1,h)[I1]/G_Y(rho_1,h)[I1]\n",
    "    I3 = np.nonzero(1-G_Y(rho,h))\n",
    "    F_1_plus_Y[I3] += D_Y(rho,h)[I3]/(1-G_Y(rho,h))[I3]\n",
    "    \n",
    "    F_1_minus_X = G_X(DV_1(X)[0],-h)\n",
    "    I1= np.nonzero(G_X(rho_1,-h))\n",
    "    F_1_minus_X[I1] += D_X(rho_1,-h)[I1]/G_X(rho_1,-h)[I1]\n",
    "    F_1_minus_X[I2] += D_X(rho,-h)[I2]/(1-G_X(rho,-h))[I2]\n",
    "    \n",
    "    F_1_minus_Y = G_Y(DV_1(X)[1],-h)\n",
    "    I1= np.nonzero(G_Y(rho_1,-h))\n",
    "    F_1_minus_Y[I1] += D_Y(rho_1,-h)[I1]/G_Y(rho_1,-h)[I1]\n",
    "    F_1_minus_Y[I3] += D_Y(rho,-h)[I3]/(1-G_Y(rho,-h))[I3]\n",
    "    \n",
    "    F_2_plus_X = G_X(DV_2(X)[0],h)\n",
    "    I1= np.nonzero(G_X(rho_2,h))\n",
    "    F_2_plus_X[I1] += D_X(rho_2,h)[I1]/G_X(rho_2,h)[I1]\n",
    "    F_2_plus_X[I2] += D_X(rho,h)[I2]/(1-G_X(rho,h))[I2]\n",
    "    \n",
    "    F_2_plus_Y = G_Y(DV_2(X)[1],h)\n",
    "    I1= np.nonzero(G_Y(rho_2,h))\n",
    "    F_2_plus_Y[I1] += D_Y(rho_2,h)[I1]/G_Y(rho_2,h)[I1]\n",
    "    F_2_plus_Y[I3] += D_Y(rho,h)[I3]/(1-G_Y(rho,h))[I3]\n",
    "    \n",
    "    F_2_minus_X = G_X(DV_2(X)[0],-h)\n",
    "    I1= np.nonzero(G_X(rho_2,-h))\n",
    "    F_2_minus_X[I1] += D_X(rho_2,-h)[I1]/G_X(rho_2,-h)[I1]\n",
    "    F_2_minus_X[I2] += D_X(rho,-h)[I2]/(1-G_X(rho,-h))[I2]\n",
    "    \n",
    "    F_2_minus_Y = G_Y(DV_2(X)[1],-h)\n",
    "    I1= np.nonzero(G_Y(rho_2,-h))\n",
    "    F_2_minus_Y[I1] += D_Y(rho_2,-h)[I1]/G_Y(rho_2,-h)[I1]\n",
    "    F_2_minus_Y[I3] += D_Y(rho,-h)[I3]/(1-G_Y(rho,-h))[I3]\n",
    "    \n",
    "    J_plus_X = np.einsum( 'ijkl,jkl ->ikl'  ,M,array([F_1_plus_X, F_2_plus_X] ))\n",
    "    J_minus_X = np.einsum( 'ijkl,jkl ->ikl'  ,M,array([F_1_minus_X, F_2_minus_X]))\n",
    "    J_plus_Y = np.einsum( 'ijkl,jkl ->ikl'  ,M,array([F_1_plus_Y, F_2_plus_Y] ))\n",
    "    J_minus_Y = np.einsum( 'ijkl,jkl ->ikl'  ,M,array([F_1_minus_Y, F_2_minus_Y]))\n",
    "    rhos_new += (dt/h**1)*(J_plus_X - J_minus_X + J_plus_Y - J_minus_Y)\n",
    "    Magnitude_change = np.sqrt(np.sum((J_plus_X - J_minus_X + J_plus_Y - J_minus_Y)**2))*h**2\n",
    "    #print(np.sqrt(np.amax( (J_plus_X - J_minus_X + J_plus_Y - J_minus_Y)**2)))\n",
    "    return rhos_new[0],rhos_new[1],Magnitude_change"
   ]
  },
  {
   "cell_type": "markdown",
   "id": "92385007-87fd-4a7a-a2dc-ed653aa2c7cb",
   "metadata": {},
   "source": [
    "## Numerical experiments\n",
    "---\n"
   ]
  },
  {
   "cell_type": "markdown",
   "id": "e8000196-15dd-4a09-9c06-f557ba5ccc6b",
   "metadata": {},
   "source": [
    "Create the lattice of the torus "
   ]
  },
  {
   "cell_type": "code",
   "execution_count": 18,
   "id": "03384c2f-8fb6-4d6f-8ec2-2da2b28613a1",
   "metadata": {},
   "outputs": [],
   "source": [
    "def makeSystem(N,D_1,D_2, dim = 2):\n",
    "    h = 1/N\n",
    "    Omega = np.meshgrid(np.linspace(0,1-h,N),np.linspace(0,1-h,N))\n",
    "    return Omega, h,N\n",
    "\n",
    "Omega, h,N = makeSystem(100,1,2, dim = 2)\n",
    "D_1 = 1\n",
    "D_2 = 1\n",
    "X,Y =Omega"
   ]
  },
  {
   "cell_type": "markdown",
   "id": "1b49bba7-f74a-458d-aa9a-756e45212f2c",
   "metadata": {},
   "source": [
    "Set initial conditions of the densities and the energy potentials. "
   ]
  },
  {
   "cell_type": "code",
   "execution_count": 119,
   "id": "b82a870e-de72-4ad0-a9ae-31c4780a3a59",
   "metadata": {},
   "outputs": [],
   "source": [
    "eps = 0.01\n",
    "rho_10 = 0*X +eps\n",
    "rho_10[np.argwhere(X[0,:] <0.75)] = 0.25\n",
    "rho_10[np.argwhere(X[0,:] <.25)] = 0\n",
    "rho_20 = 0*X +eps\n",
    "#rho_20[np.argwhere(X[0,:] <0.75)] = 0.35\n",
    "#rho_20[np.argwhere(X[0,:] <.25)] = 0\n",
    "\n",
    "V_1 = lambda x : np.sin(2*np.pi*x)\n",
    "V_2 = lambda x :  -np.sin(2*np.pi*x) # 0*np.cos(2*np.pi*x)\n",
    "DV_1 = lambda x: array( [2*np.pi*np.cos( 2*np.pi*x), 0*x])\n",
    "DV_2 = lambda x: -DV_1(x) #0*array( [-2*np.pi*np.sin( 2*np.pi*x), 0*x ])"
   ]
  },
  {
   "cell_type": "markdown",
   "id": "d8d56066-e6b3-4631-9edd-1ed888ec0092",
   "metadata": {},
   "source": [
    "Evolve the system"
   ]
  },
  {
   "cell_type": "code",
   "execution_count": 120,
   "id": "6641a953-43ef-45b9-84f1-b614a56c15ca",
   "metadata": {
    "tags": []
   },
   "outputs": [
    {
     "name": "stdout",
     "output_type": "stream",
     "text": [
      "ended early at  i=60\n"
     ]
    }
   ],
   "source": [
    "rho_t_1,rho_t_2,t = evolve(rho_10,rho_20,.1*h**2,D_1,D_2,3000,0.005)"
   ]
  },
  {
   "cell_type": "markdown",
   "id": "725e3116-860a-4fb5-ae8c-01f163044265",
   "metadata": {},
   "source": [
    "## Visualisation\n",
    "---\n",
    "Here an animation is created showing the evolution of the individual densities along side the energy potentials $V$."
   ]
  },
  {
   "cell_type": "code",
   "execution_count": 107,
   "id": "ce2d120d-33c6-4dc0-9a9e-c9763bb443d9",
   "metadata": {},
   "outputs": [],
   "source": [
    "import matplotlib.pyplot as plt\n",
    "import seaborn as sns\n",
    "from matplotlib.animation import FuncAnimation"
   ]
  },
  {
   "cell_type": "code",
   "execution_count": 112,
   "id": "429abad2-375f-4871-8f6a-e87c80d41b77",
   "metadata": {},
   "outputs": [
    {
     "data": {
      "image/png": "[encoded data removed]",
      "text/plain": [
       "<Figure size 864x360 with 1 Axes>"
      ]
     },
     "metadata": {
      "needs_background": "light"
     },
     "output_type": "display_data"
    }
   ],
   "source": [
    "fig = plt.figure(figsize=(12,5))\n",
    "ax = plt.subplot(1,2,1)   \n",
    "txt_title = ax.set_title('')\n",
    "ax.set_xlim(( 0, 1))            \n",
    "ax.set_ylim((-1, 1))\n",
    "line1, = ax.plot([], [], 'b', lw=2, label = 'rho_1')  \n",
    "line2, = ax.plot([], [], 'r', lw=2, label = 'rho_2')  \n",
    "line3, = ax.plot([], [], 'g', lw=2, label = 'V_1')  \n",
    "line4, = ax.plot([], [], 'y', lw=2, label = 'V_2')  \n",
    "ax.legend()\n",
    "def animate(i):\n",
    "     # grab a random integer to be the next y-value in the animation\n",
    "    x = np.linspace(0,1-h,N)\n",
    "    y1 = rho_t_1[i,:,0] #+  rho_t_2[i,:,0]\n",
    "    y2 = rho_t_2[i,:,0]\n",
    "    line1.set_data(x, y1)\n",
    "    line2.set_data(x, y2)\n",
    "    line3.set_data(x, V_1(x))\n",
    "    line4.set_data(x,  V_2(x))\n",
    "    txt_title.set_text('t = {0:4f}'.format(t[i]))\n",
    "    return line1,line2,line3,line4,\n",
    "ani = FuncAnimation(fig, animate, frames=rho_t_1.shape[0], interval=20,  blit=True)\n",
    "\n",
    "ani.save('System Evolution, effect of potential.mp4',\n",
    "\t\twriter = 'ffmpeg', fps = 30)"
   ]
  },
  {
   "cell_type": "markdown",
   "id": "cd9bae33-8119-4ff0-9028-1f619f40bbfe",
   "metadata": {},
   "source": [
    "Final plot of densities"
   ]
  },
  {
   "cell_type": "code",
   "execution_count": 121,
   "id": "c7aaa521-cae4-4ab9-b805-63670014a30f",
   "metadata": {},
   "outputs": [
    {
     "data": {
      "image/png": "[encoded data removed]",
      "text/plain": [
       "<Figure size 864x360 with 1 Axes>"
      ]
     },
     "metadata": {
      "needs_background": "light"
     },
     "output_type": "display_data"
    }
   ],
   "source": [
    "fig = plt.figure(figsize=(12,5))\n",
    "ax = plt.subplot(1,2,1)   \n",
    "txt_title = ax.set_title('')\n",
    "ax.set_xlim(( 0, 1))            \n",
    "ax.set_ylim((0, 1))\n",
    "line1, = ax.plot([], [], 'b', lw=2)  \n",
    "line2, = ax.plot([], [], 'r', lw=2)  \n",
    "\n",
    "x = np.linspace(0,1-h,N)\n",
    "y1 = rho_t_1[-1,:,0]\n",
    "line1.set_data(x, y1)\n",
    "y2 = rho_t_2[-1,:,0]\n",
    "line2.set_data(x, y2)"
   ]
  },
  {
   "cell_type": "markdown",
   "id": "9b369bd6-7d8d-411f-b616-0ccba2edd859",
   "metadata": {},
   "source": [
    "Plotting evolution of Entropy functional"
   ]
  },
  {
   "cell_type": "code",
   "execution_count": 122,
   "id": "2029e6f9-8896-4216-8f6f-098cd484cc12",
   "metadata": {},
   "outputs": [],
   "source": [
    "def E(rho_1,rho_2):\n",
    "    I1 = np.nonzero(rho_1)\n",
    "    I2 = np.nonzero(rho_2)\n",
    "    rho = rho_1 +rho_2\n",
    "    I3 = np.nonzero(rho)\n",
    "    E_0 = h**2*(np.sum(rho_1[I1]*np.log(rho_1[I1])) +np.sum(rho_2[I2]*np.log(rho_2[I2]))  +np.sum((1- rho[I3])*np.log(1-rho[I3])))\n",
    "    E_V = h**2*np.sum(rho_1*V_1(X) + rho_2*V_2(X))\n",
    "    return E_0 +E_V\n",
    "x = np.linspace(0,t[-1],rho_t_1.shape[0])\n",
    "y =0*x\n",
    "for j in range(0,len(x)):\n",
    "    y[j] = E(rho_t_1[j],rho_t_2[j])"
   ]
  },
  {
   "cell_type": "code",
   "execution_count": 123,
   "id": "944c6320-36dd-4cd4-97ce-36234ccdd8b1",
   "metadata": {},
   "outputs": [
    {
     "data": {
      "text/plain": [
       "[<matplotlib.lines.Line2D at 0x176070ce670>]"
      ]
     },
     "execution_count": 123,
     "metadata": {},
     "output_type": "execute_result"
    },
    {
     "data": {
      "image/png": "[encoded data removed]",
      "text/plain": [
       "<Figure size 864x360 with 1 Axes>"
      ]
     },
     "metadata": {
      "needs_background": "light"
     },
     "output_type": "display_data"
    }
   ],
   "source": [
    "fig = plt.figure(figsize=(12,5))\n",
    "\n",
    "plt.plot(x,y)"
   ]
  },
  {
   "cell_type": "markdown",
   "id": "3a62ceee-b2c5-4209-8f5c-6a4b4399da07",
   "metadata": {},
   "source": [
    "In current code it seems that the mass of the species is decreasing over time. This is a plot of the total mass of each species."
   ]
  },
  {
   "cell_type": "code",
   "execution_count": 124,
   "id": "193075ad-8d50-496e-8c24-5ec75c51a824",
   "metadata": {},
   "outputs": [
    {
     "data": {
      "image/png": "[encoded data removed]",
      "text/plain": [
       "<Figure size 864x360 with 1 Axes>"
      ]
     },
     "metadata": {
      "needs_background": "light"
     },
     "output_type": "display_data"
    }
   ],
   "source": [
    "x = np.linspace(0,t[-1],rho_t_1.shape[0])\n",
    "mass_1 =0*x\n",
    "mass_2 =0*x\n",
    "for j in range(0,len(x)):\n",
    "    mass_1[j] = np.sum(rho_t_1[j,:,:])*h**2\n",
    "    mass_2[j] = np.sum(rho_t_2[j,:,:])*h**2\n",
    "    \n",
    "fig = plt.figure(figsize=(12,5))\n",
    "\n",
    "plt.plot(x,mass_1, label = 'mass of rho_1')\n",
    "plt.plot(x,mass_2, label = 'mass of rho_2')\n",
    "\n",
    "plt.legend()\n",
    "plt.show()"
   ]
  },
  {
   "cell_type": "code",
   "execution_count": null,
   "id": "6b9a13aa-3e97-4262-acc6-4842885b95b4",
   "metadata": {},
   "outputs": [],
   "source": []
  }
 ],
 "metadata": {
  "kernelspec": {
   "display_name": "Python 3 (ipykernel)",
   "language": "python",
   "name": "python3"
  },
  "language_info": {
   "codemirror_mode": {
    "name": "ipython",
    "version": 3
   },
   "file_extension": ".py",
   "mimetype": "text/x-python",
   "name": "python",
   "nbconvert_exporter": "python",
   "pygments_lexer": "ipython3",
   "version": "3.9.7"
  }
 },
 "nbformat": 4,
 "nbformat_minor": 5
}
