{
 "cells": [
  {
   "cell_type": "markdown",
   "id": "7572cf92-e7c5-4de4-9f14-0e11a14bb40d",
   "metadata": {},
   "source": [
    "Experimenting with mobility matrix bounds\n",
    "----"
   ]
  },
  {
   "cell_type": "code",
   "execution_count": 1,
   "id": "06b35565-886a-43c6-90b9-3e216fef90f2",
   "metadata": {},
   "outputs": [],
   "source": [
    "import numpy as np\n",
    "from numpy import array"
   ]
  },
  {
   "cell_type": "code",
   "execution_count": 9,
   "id": "215af555-400d-4f30-bcb7-5bc321abca78",
   "metadata": {},
   "outputs": [],
   "source": [
    "def get_lower_bound(D1,D2):\n",
    "    global g1,g2,alpha\n",
    "    g1 = 2*D1/(D1+D2)\n",
    "    g2 = 2*D2/(D1+D2)\n",
    "    a = np.sqrt(D1*g1)/20\n",
    "    b = np.sqrt(D2*g2)\n",
    "    alpha = np.pi/2 - 1\n",
    "    f = lambda p1,p2 : p1*(1/g1 - alpha*p2)*a**2 + p2*(1/g2 - alpha*p1)*b**2 - 2*alpha*p1*p2*a*b\n",
    "    return f"
   ]
  },
  {
   "cell_type": "code",
   "execution_count": 2,
   "id": "3948acd7-6a39-475c-8429-bdf0ba0436e2",
   "metadata": {},
   "outputs": [],
   "source": [
    "def M(rho_1,rho_2,D1,D2):\n",
    "    rho = rho_1 + rho_2\n",
    "    M = np.array([[D1*rho_1*(1-rho)*(1-g1*alpha*rho_2),(D1+D2)*g1*g2*alpha*(1-rho)*rho_1*rho_2/2],[(D1+D2)*g1*g2*alpha*(1-rho)*rho_1*rho_2/2,D2*rho_2*(1-rho)*(1-g2*alpha*rho_1)]])\n",
    "    return M\n",
    "    "
   ]
  },
  {
   "cell_type": "code",
   "execution_count": 10,
   "id": "28130495-dc86-4deb-82a3-6d1d9ca27226",
   "metadata": {},
   "outputs": [],
   "source": [
    "f = get_lower_bound(1,20)"
   ]
  },
  {
   "cell_type": "code",
   "execution_count": 11,
   "id": "6f62dda3-9848-4f73-80e4-a404c9602091",
   "metadata": {},
   "outputs": [],
   "source": [
    "p1 = np.linspace(0,1,101)\n",
    "p2 = np.linspace(0,1,101)"
   ]
  },
  {
   "cell_type": "code",
   "execution_count": 12,
   "id": "51ae662a-a119-4c8b-8cb9-9e259e7cf067",
   "metadata": {},
   "outputs": [
    {
     "name": "stdout",
     "output_type": "stream",
     "text": [
      "0.9500000000000001\n",
      "-0.020449208126420364\n"
     ]
    },
    {
     "data": {
      "text/plain": [
       "array([[ 0.01896901,  0.00061972],\n",
       "       [ 0.00061972, -0.00039443]])"
      ]
     },
     "execution_count": 12,
     "metadata": {},
     "output_type": "execute_result"
    }
   ],
   "source": [
    "eps = 0.02\n",
    "print(p1[np.argmin(f(p1,1-p1-eps))])\n",
    "print(np.amin(f(p1,1-p1-eps)))\n",
    "M(p1[np.argmin(f(p1,1-p1-eps))],1-p1[np.argmin(f(p1,1-p1-eps))]-eps,1,20)"
   ]
  },
  {
   "cell_type": "code",
   "execution_count": 13,
   "id": "e38f0ce6-8a33-4bc3-b4d4-4689968e8653",
   "metadata": {},
   "outputs": [
    {
     "data": {
      "text/plain": [
       "-0.020336612246665497"
      ]
     },
     "execution_count": 13,
     "metadata": {},
     "output_type": "execute_result"
    }
   ],
   "source": [
    "f(.93,.07)"
   ]
  },
  {
   "cell_type": "code",
   "execution_count": 9,
   "id": "2c1a3aeb-820e-4e28-b27f-ac0e33db2b94",
   "metadata": {},
   "outputs": [],
   "source": [
    "f = get_lower_bound(1,10)"
   ]
  },
  {
   "cell_type": "code",
   "execution_count": 10,
   "id": "fd813415-32b9-4e43-a2d2-8ba891f190b2",
   "metadata": {},
   "outputs": [
    {
     "data": {
      "text/plain": [
       "array([ 0. ,  0.1,  0.2,  0.3,  0.4,  0.5,  0.6,  0.7,  0.8,  0.9,  1. ,\n",
       "        1.1,  1.2,  1.3,  1.4,  1.5,  1.6,  1.7,  1.8,  1.9,  2. ,  2.1,\n",
       "        2.2,  2.3,  2.4,  2.5,  2.6,  2.7,  2.8,  2.9,  3. ,  3.1,  3.2,\n",
       "        3.3,  3.4,  3.5,  3.6,  3.7,  3.8,  3.9,  4. ,  4.1,  4.2,  4.3,\n",
       "        4.4,  4.5,  4.6,  4.7,  4.8,  4.9,  5. ,  5.1,  5.2,  5.3,  5.4,\n",
       "        5.5,  5.6,  5.7,  5.8,  5.9,  6. ,  6.1,  6.2,  6.3,  6.4,  6.5,\n",
       "        6.6,  6.7,  6.8,  6.9,  7. ,  7.1,  7.2,  7.3,  7.4,  7.5,  7.6,\n",
       "        7.7,  7.8,  7.9,  8. ,  8.1,  8.2,  8.3,  8.4,  8.5,  8.6,  8.7,\n",
       "        8.8,  8.9,  9. ,  9.1,  9.2,  9.3,  9.4,  9.5,  9.6,  9.7,  9.8,\n",
       "        9.9, 10. ])"
      ]
     },
     "execution_count": 10,
     "metadata": {},
     "output_type": "execute_result"
    }
   ],
   "source": [
    "f(0,p2)"
   ]
  },
  {
   "cell_type": "code",
   "execution_count": 20,
   "id": "7d089e01-2566-49e9-92e5-b5be24f64346",
   "metadata": {},
   "outputs": [
    {
     "data": {
      "text/plain": [
       "array([[ 1.85393325e-01,  6.06674953e-04],\n",
       "       [ 6.06674953e-04, -6.67495305e-06]])"
      ]
     },
     "execution_count": 20,
     "metadata": {},
     "output_type": "execute_result"
    }
   ],
   "source": [
    "M(0.93,0.06,20,1)"
   ]
  },
  {
   "cell_type": "code",
   "execution_count": null,
   "id": "7e05e979-0a5b-4fe5-8f22-cf79f48ee9fa",
   "metadata": {},
   "outputs": [],
   "source": []
  }
 ],
 "metadata": {
  "kernelspec": {
   "display_name": "Python 3 (ipykernel)",
   "language": "python",
   "name": "python3"
  },
  "language_info": {
   "codemirror_mode": {
    "name": "ipython",
    "version": 3
   },
   "file_extension": ".py",
   "mimetype": "text/x-python",
   "name": "python",
   "nbconvert_exporter": "python",
   "pygments_lexer": "ipython3",
   "version": "3.11.4"
  }
 },
 "nbformat": 4,
 "nbformat_minor": 5
}
