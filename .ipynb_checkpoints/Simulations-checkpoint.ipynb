{
 "cells": [
  {
   "cell_type": "markdown",
   "id": "bcdc95ff-a4fb-4884-ac83-621aae2e7fa4",
   "metadata": {},
   "source": [
    "# Producing solutions"
   ]
  },
  {
   "cell_type": "code",
   "execution_count": 1,
   "id": "369a5a8c-4ca3-4e00-8f3f-6bb42f81ee8a",
   "metadata": {},
   "outputs": [],
   "source": [
    "import numpy as np\n",
    "from numpy import array\n",
    "\n",
    "from Functions import D_X,D_Y,D,div,evolve,forward_euler, crank_nicholson, backwards_euler, alpha, dp, M, dE, E, dw, alt_evolve,alt_forward_euler\n",
    "\n",
    "from Parameters import h,N,X,Y,Omega, D1,D2,rho_10,rho_20, V_1,V_2,DV_1,DV_2, savefile"
   ]
  },
  {
   "cell_type": "markdown",
   "id": "9065132a-b060-40bf-a8d7-260acf2ac978",
   "metadata": {
    "tags": []
   },
   "source": [
    "## Evolving the system\n",
    "---\n"
   ]
  },
  {
   "cell_type": "code",
   "execution_count": 2,
   "id": "c59ba019-ada2-4bcb-8e7b-1d1f1b9d77e5",
   "metadata": {
    "tags": []
   },
   "outputs": [
    {
     "name": "stdout",
     "output_type": "stream",
     "text": [
      "1% completed. Current value of dp/dt = 7.014932328777084\n",
      "2% completed. Current value of dp/dt = 5.600897075787989\n",
      "3% completed. Current value of dp/dt = 4.780150848140232\n",
      "4% completed. Current value of dp/dt = 4.053264108468363\n",
      "5% completed. Current value of dp/dt = 3.4050821710666264\n",
      "6% completed. Current value of dp/dt = 2.8330681492963405\n",
      "7% completed. Current value of dp/dt = 2.334371533142627\n"
     ]
    },
    {
     "ename": "KeyboardInterrupt",
     "evalue": "",
     "output_type": "error",
     "traceback": [
      "\u001b[1;31m---------------------------------------------------------------------------\u001b[0m",
      "\u001b[1;31mKeyboardInterrupt\u001b[0m                         Traceback (most recent call last)",
      "Cell \u001b[1;32mIn[2], line 1\u001b[0m\n\u001b[1;32m----> 1\u001b[0m rho_t_1,rho_t_2,t, data1 \u001b[38;5;241m=\u001b[39m evolve(\u001b[38;5;241m.1\u001b[39m\u001b[38;5;241m*\u001b[39mh\u001b[38;5;241m*\u001b[39m\u001b[38;5;241m*\u001b[39m\u001b[38;5;241m2\u001b[39m,\u001b[38;5;241m1\u001b[39m,\u001b[38;5;241m0.0005\u001b[39m,\u001b[38;5;124m'\u001b[39m\u001b[38;5;124mforward_euler\u001b[39m\u001b[38;5;124m'\u001b[39m)\n",
      "File \u001b[1;32m~\\OneDrive\\Documents\\GitHub\\Cross-diffusion system\\Cross-diffusion-system\\Functions.py:39\u001b[0m, in \u001b[0;36mevolve\u001b[1;34m(dt, EndTime, minChange, method)\u001b[0m\n\u001b[0;32m     37\u001b[0m \u001b[38;5;28;01mwhile\u001b[39;00m i\u001b[38;5;241m<\u001b[39m TimeSteps:\n\u001b[0;32m     38\u001b[0m     \u001b[38;5;28;01mif\u001b[39;00m method \u001b[38;5;241m==\u001b[39m \u001b[38;5;124m'\u001b[39m\u001b[38;5;124mforward_euler\u001b[39m\u001b[38;5;124m'\u001b[39m:\n\u001b[1;32m---> 39\u001b[0m         rho_1,rho_2,Magnitude_change \u001b[38;5;241m=\u001b[39m  forward_euler(rho_1,rho_2,dt)\n\u001b[0;32m     40\u001b[0m     \u001b[38;5;28;01melif\u001b[39;00m method \u001b[38;5;241m==\u001b[39m \u001b[38;5;124m'\u001b[39m\u001b[38;5;124mcrank_nicholson\u001b[39m\u001b[38;5;124m'\u001b[39m:\n\u001b[0;32m     41\u001b[0m         rho_1,rho_2,Magnitude_change \u001b[38;5;241m=\u001b[39m  crank_nicholson(rho_1,rho_2,dt)\n",
      "File \u001b[1;32m~\\OneDrive\\Documents\\GitHub\\Cross-diffusion system\\Cross-diffusion-system\\Functions.py:70\u001b[0m, in \u001b[0;36mforward_euler\u001b[1;34m(rho_1, rho_2, dt)\u001b[0m\n\u001b[0;32m     69\u001b[0m \u001b[38;5;28;01mdef\u001b[39;00m \u001b[38;5;21mforward_euler\u001b[39m(rho_1,rho_2,dt):\n\u001b[1;32m---> 70\u001b[0m     delta_rho \u001b[38;5;241m=\u001b[39m dp(rho_1,rho_2)\n\u001b[0;32m     71\u001b[0m     rhos_new \u001b[38;5;241m=\u001b[39m array([rho_1,rho_2])\n\u001b[0;32m     72\u001b[0m     rhos_new \u001b[38;5;241m+\u001b[39m\u001b[38;5;241m=\u001b[39m  dt\u001b[38;5;241m*\u001b[39mdelta_rho\n",
      "File \u001b[1;32m~\\OneDrive\\Documents\\GitHub\\Cross-diffusion system\\Cross-diffusion-system\\Functions.py:119\u001b[0m, in \u001b[0;36mdp\u001b[1;34m(rho_1, rho_2)\u001b[0m\n\u001b[0;32m    117\u001b[0m Drho_1 \u001b[38;5;241m=\u001b[39m D(rho_1,h)\n\u001b[0;32m    118\u001b[0m Drho_2 \u001b[38;5;241m=\u001b[39m D(rho_2,h)\n\u001b[1;32m--> 119\u001b[0m Drho \u001b[38;5;241m=\u001b[39m D(rho,h)\n\u001b[0;32m    120\u001b[0m DV1 \u001b[38;5;241m=\u001b[39m DV_1(X,Y)\n\u001b[0;32m    121\u001b[0m DV2 \u001b[38;5;241m=\u001b[39m DV_2(X,Y)\n",
      "File \u001b[1;32m~\\OneDrive\\Documents\\GitHub\\Cross-diffusion system\\Cross-diffusion-system\\Functions.py:14\u001b[0m, in \u001b[0;36mD\u001b[1;34m(V, h)\u001b[0m\n\u001b[0;32m     13\u001b[0m \u001b[38;5;28;01mdef\u001b[39;00m \u001b[38;5;21mD\u001b[39m(V,h):\n\u001b[1;32m---> 14\u001b[0m     \u001b[38;5;28;01mreturn\u001b[39;00m array([D_X(V,h),D_Y(V,h)])\n",
      "\u001b[1;31mKeyboardInterrupt\u001b[0m: "
     ]
    }
   ],
   "source": [
    "rho_t_1,rho_t_2,t, data1 = evolve(.1*h**2,1,0.0005,'forward_euler')"
   ]
  },
  {
   "cell_type": "code",
   "execution_count": null,
   "id": "ba40c3fd-8a22-4e18-9419-9d5b389dc0c4",
   "metadata": {
    "tags": []
   },
   "outputs": [],
   "source": [
    "rho_t_1_alt,rho_t_2_alt,t_alt, data2 = alt_evolve(.1*h**2,1,0.0005,'forward_euler')"
   ]
  },
  {
   "cell_type": "code",
   "execution_count": null,
   "id": "211104eb-ea3d-46dc-a4ad-485d8abf0f4c",
   "metadata": {
    "tags": []
   },
   "outputs": [],
   "source": [
    "title = 'data1'\n",
    "np.save(savefile+'/'+title + '.npy', data1)\n",
    "title = 'data2'\n",
    "np.save(savefile+'/'+title + '.npy', data2)"
   ]
  },
  {
   "cell_type": "code",
   "execution_count": null,
   "id": "5a8190c6-cc9f-4887-a3fa-e8851b73c271",
   "metadata": {
    "tags": []
   },
   "outputs": [],
   "source": [
    "data1 = np.load(savefile+'/data1' + '.npy',allow_pickle='TRUE').item()\n",
    "data2 = np.load(savefile+'/data2' + '.npy',allow_pickle='TRUE').item()\n",
    "\n",
    "rho_t_1 = data1['rho_t_1']\n",
    "rho_t_2 = data1['rho_t_2']\n",
    "t = data1['t']\n",
    "\n",
    "rho_t_1_alt = data2['rho_t_1']\n",
    "rho_t_2_alt = data2['rho_t_2']\n",
    "t_alt = data2['t']"
   ]
  },
  {
   "cell_type": "markdown",
   "id": "b05ee11b-0baf-408c-9462-2a25a1d002ce",
   "metadata": {
    "tags": []
   },
   "source": [
    "## Animations\n",
    "---\n",
    "Here an animation is created showing the evolution of the individual densities along side the energy potentials $V$."
   ]
  },
  {
   "cell_type": "code",
   "execution_count": null,
   "id": "1835d423-5414-4af3-b501-fefd49380d9c",
   "metadata": {
    "tags": []
   },
   "outputs": [],
   "source": [
    "import matplotlib.pyplot as plt\n",
    "import seaborn as sns\n",
    "from matplotlib.animation import FuncAnimation\n",
    "\n",
    "def makePlot(Time_length,Title,rho_t_1,rho_t_2,t):\n",
    "    scale = int(rho_t_1.shape[0]/(Time_length*20))\n",
    "    fig = plt.figure(figsize=(12,5))\n",
    "    ax = plt.subplot(1,2,1)   \n",
    "    txt_title = ax.set_title('')\n",
    "    ax.set_xlim(( 0, 1))            \n",
    "    ax.set_ylim((-1, 1))\n",
    "    line1, = ax.plot([], [], 'b', lw=2, label = 'rho_1')  \n",
    "    line2, = ax.plot([], [], 'r', lw=2, label = 'rho_2')  \n",
    "    line3, = ax.plot([], [], 'g', lw=2, label = 'V_1')  \n",
    "    line4, = ax.plot([], [], 'y', lw=2, label = 'V_2')  \n",
    "    ax.legend()\n",
    "    def animate(i): \n",
    "         # grab a random integer to be the next y-value in the animation\n",
    "        x = np.linspace(0,1-h,N)\n",
    "        y1 = rho_t_1[scale*i,0,:] #+  rho_t_2[i,:,0]\n",
    "        y2 = rho_t_2[scale*i,0,:]\n",
    "        line1.set_data(x, y1)\n",
    "        line2.set_data(x, y2)\n",
    "        line3.set_data(x, V_1(x,0))\n",
    "        line4.set_data(x,  V_2(x,0))\n",
    "        txt_title.set_text('t = {0:4f}'.format(t[scale*i]))\n",
    "        return line1,line2,line3,line4,\n",
    "    ani = FuncAnimation(fig, animate, frames=Time_length*20, interval=20,  blit=True)\n",
    "    ani.save(savefile+'/'+Title + '.mp4', writer = 'ffmpeg', fps = 30)\n",
    "\n",
    "def makePlotMatrixDeterminant(Time_length,Title,rho_t_1,rho_t_2,t):\n",
    "    scale = int(rho_t_1.shape[0]/(Time_length*20))\n",
    "    fig = plt.figure(figsize=(12,5))\n",
    "    ax = plt.subplot(1,2,1)   \n",
    "    txt_title = ax.set_title('')\n",
    "    ax.set_xlim(( 0, 1))                \n",
    "    Max_value = 1e-6\n",
    "    for j in range(0,len(t)):\n",
    "        Mob =M(rho_t_1[j,0,:],rho_t_2[j,0,:])\n",
    "        x = np.linspace(0,1-h,N)\n",
    "        y1 =Mob[0,0,:]*Mob[1,1,:] - Mob[0,1,:]*Mob[1,0,:]\n",
    "        if np.amax(abs(y1)) > Max_value:\n",
    "            Max_value = np.amax(abs(y1))\n",
    "    \n",
    "    ax.set_ylim((-1.5*Max_value,1.5*Max_value))    \n",
    "    line1, = ax.plot([], [], 'b', lw=2, label = 'det(M)')\n",
    "    ax.legend()\n",
    "    def animate(i): \n",
    "         # grab a random integer to be the next y-value in the animation\n",
    "        Mob =M(rho_t_1[scale*i,0,:],rho_t_2[scale*i,0,:])\n",
    "        x = np.linspace(0,1-h,N)\n",
    "        y1 =Mob[0,0,:]*Mob[1,1,:] - Mob[0,1,:]*Mob[1,0,:]\n",
    "        line1.set_data(x, y1)\n",
    "        txt_title.set_text('t = {0:4f}'.format(t[scale*i]))\n",
    "        return line1,\n",
    "    ani = FuncAnimation(fig, animate, frames=Time_length*20, interval=20,  blit=True)\n",
    "    ani.save(savefile+'/'+Title + '.mp4', writer = 'ffmpeg', fps = 30)"
   ]
  },
  {
   "cell_type": "code",
   "execution_count": null,
   "id": "766f7ba1-ac4c-4fea-8795-39e0b873a2c1",
   "metadata": {},
   "outputs": [],
   "source": [
    "makePlot(20,'System evolution expanded method',rho_t_1,rho_t_2,t)\n",
    "#makePlot(20,'System evolution  gradient flow method',rho_t_1_alt,rho_t_2_alt,t_alt)\n",
    "\n",
    "makePlotMatrixDeterminant(20,'Expanded method Matrix determinant',rho_t_1,rho_t_2,t)\n",
    "#makePlotMatrixDeterminant(20,'Gradient flow method  Matrix determinant',rho_t_1_alt,rho_t_2_alt,t_alt)"
   ]
  },
  {
   "cell_type": "markdown",
   "id": "bede79f5-1de6-4a58-bd94-73b9b97168fc",
   "metadata": {},
   "source": [
    "## Snapshots\n",
    "---"
   ]
  },
  {
   "cell_type": "code",
   "execution_count": null,
   "id": "d33c1c04-5025-4b53-b3c9-4641053c790e",
   "metadata": {},
   "outputs": [],
   "source": [
    "def makeSnapshots(title,rho_t_1,rho_t_2,t):\n",
    "    counter = 0\n",
    "    for j in (0,int(len(t)/2), len(t)-2):\n",
    "        fig = plt.figure(figsize=(7,7))\n",
    "        ax = plt.subplot(1,1,1)   \n",
    "        txt_title = ax.set_title('t = {0:2f}'.format(t[j]))\n",
    "        ax.set_xlim(( 0, 1))            \n",
    "        ax.set_ylim((-1, 1))\n",
    "        line1, = ax.plot([], [], 'b', lw=2, label = 'rho_1')  \n",
    "        line2, = ax.plot([], [], 'r', lw=2, label = 'rho_2') \n",
    "        line3, = ax.plot([], [], 'g', lw=2, label = 'V_1') \n",
    "        line4, = ax.plot([], [], 'y', lw=2, label = 'V_2') \n",
    "\n",
    "        x = np.linspace(0,1-h,N)\n",
    "        y1 = rho_t_1[j,0,:]\n",
    "        line1.set_data(x, y1)\n",
    "        y2 = rho_t_2[j,0,:]\n",
    "        line2.set_data(x, y2)\n",
    "        line3.set_data(x, V_1(x,0))\n",
    "        line4.set_data(x,  V_2(x,0))\n",
    "        ax.legend()\n",
    "        plt.savefig(savefile+'/'+title + ' ' +str(counter) +'.jpg')\n",
    "        counter +=1"
   ]
  },
  {
   "cell_type": "code",
   "execution_count": null,
   "id": "4b1b7792-edc4-4092-98ba-67e128cede80",
   "metadata": {},
   "outputs": [],
   "source": [
    "#makeSnapshots('expanded method stable (constant) values',rho_t_1,rho_t_2,t)\n",
    "#makeSnapshots('Gradient method stable (constant) values',rho_t_1_alt,rho_t_2_alt,t_alt)\n",
    "\n",
    "#makeSnapshots('expanded method stable values',rho_t_1,rho_t_2,t)\n",
    "#makeSnapshots('Gradient method stable values',rho_t_1_alt,rho_t_2_alt,t_alt)\n",
    "\n",
    "#makeSnapshots('expanded method unstable values',rho_t_1,rho_t_2,t)\n",
    "#makeSnapshots('Gradient method unstable values',rho_t_1_alt,rho_t_2_alt,t_alt)\n",
    "\n",
    "makeSnapshots('expanded method unstable (refined) values',rho_t_1,rho_t_2,t)\n",
    "#makeSnapshots('Gradient method unstable (refined) values',rho_t_1_alt,rho_t_2_alt,t_alt)"
   ]
  },
  {
   "cell_type": "markdown",
   "id": "6492f6a3-3607-42db-8b91-912d1963c457",
   "metadata": {},
   "source": [
    "## Entropy\n",
    "---"
   ]
  },
  {
   "cell_type": "markdown",
   "id": "59b42f3c-6a0d-44de-b51c-e68d4a688f46",
   "metadata": {},
   "source": [
    "Plotting evolution of Entropy functional"
   ]
  },
  {
   "cell_type": "code",
   "execution_count": null,
   "id": "cfd6a09b-d6e7-48df-84f8-40efb7eb67b9",
   "metadata": {},
   "outputs": [],
   "source": [
    "def Entropy_plot(title,rho_t_1,rho_t_2,t,rho_t_1_alt,rho_t_2_alt,t_alt):\n",
    "    Entropy =0*t\n",
    "    Entropy_alt =0*t_alt\n",
    "\n",
    "    for j in range(0,len(t)):\n",
    "        Entropy[j] = E(rho_t_1[j],rho_t_2[j])\n",
    "    for j in range(0,len(t_alt)):\n",
    "        Entropy_alt[j] = E(rho_t_1_alt[j],rho_t_2_alt[j])\n",
    "    fig = plt.figure(figsize=(12,5))\n",
    "    plt.plot(t,Entropy, label = 'expanded scheme')\n",
    "    plt.plot(t_alt,Entropy_alt, label = 'gradient flow scheme')\n",
    "    plt.legend()\n",
    "    plt.savefig(savefile+'/'+title+'.jpg')\n",
    "    plt.show()\n",
    "    "
   ]
  },
  {
   "cell_type": "code",
   "execution_count": null,
   "id": "dd783bc5-05aa-44f3-85b8-dafe74d991f4",
   "metadata": {},
   "outputs": [],
   "source": [
    "#Entropy_plot('Stable (constant) initial entropy',rho_t_1,rho_t_2,t,rho_t_1_alt,rho_t_2_alt,t_alt)\n",
    "\n",
    "#Entropy_plot('Unstable initial entropy',rho_t_1,rho_t_2,t,rho_t_1_alt,rho_t_2_alt,t_alt)\n",
    "\n",
    "Entropy_plot('Unstable (refined) initial entropy',rho_t_1,rho_t_2,t,rho_t_1_alt,rho_t_2_alt,t_alt)"
   ]
  },
  {
   "cell_type": "code",
   "execution_count": null,
   "id": "747ae9b5-f35c-4738-a69c-b5f7fda72101",
   "metadata": {},
   "outputs": [],
   "source": [
    "def dt_Entropy_plot(title,rho_t_1,rho_t_2,t,rho_t_1_alt,rho_t_2_alt,t_alt):\n",
    "    Entropy =0*t\n",
    "    Entropy_alt =0*t_alt\n",
    "\n",
    "    for j in range(0,len(t)):\n",
    "        Entropy[j] = E(rho_t_1[j],rho_t_2[j])\n",
    "    for j in range(0,len(t_alt)):\n",
    "        Entropy_alt[j] = E(rho_t_1_alt[j],rho_t_2_alt[j])\n",
    "    dt_entropy =0*t\n",
    "    for j in range(0,len(t)):\n",
    "        dt_entropy[j] = dE(rho_t_1[j],rho_t_2[j])\n",
    "    dt_entropy_alt =0*t_alt\n",
    "    for j in range(0,len(t_alt)):\n",
    "        dt_entropy_alt[j] = dE(rho_t_1_alt[j],rho_t_2_alt[j])\n",
    "\n",
    "    fig = plt.figure(figsize=(12,5))\n",
    "    plt.plot(t,dt_entropy,label = 'PDE time derivative, expanded scheme')\n",
    "    plt.plot(t[:-1],(Entropy[1:]-Entropy[:-1])/(t[1]-t[0]), label = 'Numerical time derivative, expanded scheme')\n",
    "    plt.plot(t_alt,dt_entropy_alt,label = 'PDE time derivative, gradient flow scheme')\n",
    "    plt.plot(t_alt[:-1],(Entropy_alt[1:]-Entropy_alt[:-1])/(t_alt[1]-t_alt[0]), label = 'Numerical time derivative, gradient flow scheme')\n",
    "    plt.legend()\n",
    "    plt.savefig(savefile+'/'+title+'.jpg')\n",
    "    plt.show()\n",
    "    return dt_entropy"
   ]
  },
  {
   "cell_type": "code",
   "execution_count": null,
   "id": "2891495a-da8f-4608-a489-0404b1e9d266",
   "metadata": {},
   "outputs": [],
   "source": [
    "#dt_entropy= dt_Entropy_plot('Stable (constant) initial time derivative entropy',rho_t_1,rho_t_2,t,rho_t_1_alt,rho_t_2_alt,t_alt)\n",
    "\n",
    "#dt_entropy= dt_Entropy_plot('Unstable initial time derivative entropy',rho_t_1,rho_t_2,t,rho_t_1_alt,rho_t_2_alt,t_alt)\n",
    "\n",
    "dt_entropy= dt_Entropy_plot('Unstable (refined) initial time derivative entropy',rho_t_1,rho_t_2,t,rho_t_1_alt,rho_t_2_alt,t_alt)"
   ]
  },
  {
   "cell_type": "markdown",
   "id": "41bfb1ee-725a-4575-a1e0-d2e58a7707bb",
   "metadata": {},
   "source": [
    "Comparing forward-euler with Crank-Nicholson. It was found that both produced solutions that were reasonably close, however the forward-euler method runs significantly quicker. Conclusion: for most experiments it is sufficient to use the forward_euler method."
   ]
  },
  {
   "cell_type": "code",
   "execution_count": null,
   "id": "494b0a36-cfba-4faa-83ba-1a41ccd603c6",
   "metadata": {},
   "outputs": [],
   "source": [
    "import time\n",
    "\n",
    "start_time = time.time()\n",
    "\n",
    "rho_t_1_forward_euler,rho_t_2_forward_euler,t_forward_euler =  evolve(.1*h**2,1,0.0005,'forward_euler')\n",
    "forward_euler_time = time.time() - start_time\n",
    "rho_t_1_crank_nicholson,rho_t_2_crank_nicholson,t_crank_nicholson = evolve(.1*h**2,1,0.0005,'crank_nicholson')  \n",
    "crank_nicholson_time = time.time() - start_time - forward_euler_time\n",
    "\n",
    "error = np.sqrt(np.sum((rho_t_1_forward_euler - rho_t_1_crank_nicholson)**2 +(rho_t_2_forward_euler- rho_t_2_crank_nicholson)**2)*h**2)/(t_forward_euler[-1] - t_forward_euler[0])\n",
    "\n",
    "print('error =' + str(error))\n",
    "print('forward_euler took ' + str(forward_euler_time) + ' seconds')\n",
    "print('crank_nicholson took ' + str(crank_nicholson_time) + ' seconds')"
   ]
  }
 ],
 "metadata": {
  "kernelspec": {
   "display_name": "Python 3 (ipykernel)",
   "language": "python",
   "name": "python3"
  },
  "language_info": {
   "codemirror_mode": {
    "name": "ipython",
    "version": 3
   },
   "file_extension": ".py",
   "mimetype": "text/x-python",
   "name": "python",
   "nbconvert_exporter": "python",
   "pygments_lexer": "ipython3",
   "version": "3.11.4"
  }
 },
 "nbformat": 4,
 "nbformat_minor": 5
}
